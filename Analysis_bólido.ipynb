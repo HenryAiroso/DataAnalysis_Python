{
  "nbformat": 4,
  "nbformat_minor": 0,
  "metadata": {
    "colab": {
      "provenance": [],
      "authorship_tag": "ABX9TyMTy3EcyXivITKY9XIiPIi/",
      "include_colab_link": true
    },
    "kernelspec": {
      "name": "python3",
      "display_name": "Python 3"
    },
    "language_info": {
      "name": "python"
    }
  },
  "cells": [
    {
      "cell_type": "markdown",
      "metadata": {
        "id": "view-in-github",
        "colab_type": "text"
      },
      "source": [
        "<a href=\"https://colab.research.google.com/github/HenryAiroso/DataAnalysis_Python/blob/main/Analysis_b%C3%B3lido.ipynb\" target=\"_parent\"><img src=\"https://colab.research.google.com/assets/colab-badge.svg\" alt=\"Open In Colab\"/></a>"
      ]
    },
    {
      "cell_type": "code",
      "execution_count": 9,
      "metadata": {
        "colab": {
          "base_uri": "https://localhost:8080/"
        },
        "id": "vpB2ynFz84GT",
        "outputId": "fd1ea244-5e66-48b7-8779-99c7cd8469b1"
      },
      "outputs": [
        {
          "output_type": "stream",
          "name": "stdout",
          "text": [
            "Bólido de maior energia radiada:\n",
            "   date_time_peak_brightness_ut latitude_deg longitude_deg altitude_km  \\\n",
            "23      2013-02-15T03:20:33.000        54.8N         61.1E        23.3   \n",
            "\n",
            "   velocity_km_s velocity_components_km_s_vx velocity_components_km_s_vy  \\\n",
            "23          18.6                        12.8                       -13.3   \n",
            "\n",
            "   velocity_components_km_s_vz  total_radiated_energy_j  \\\n",
            "23                        -2.4             3.750000e+14   \n",
            "\n",
            "   calculated_total_impact_energy_kt  \n",
            "23                               440  \n"
          ]
        }
      ],
      "source": [
        "import requests\n",
        "import pandas as pd\n",
        "\n",
        "# URL do dataset da NASA\n",
        "url = \"https://data.nasa.gov/resource/mc52-syum.json\"\n",
        "\n",
        "# Faz a requisição\n",
        "response = requests.get(url)\n",
        "\n",
        "# Verifica se a requisição foi bem sucedida\n",
        "if response.status_code == 200:\n",
        "    # Converte os dados JSON em um DataFrame do pandas\n",
        "    data = response.json()\n",
        "    df = pd.DataFrame(data)\n",
        "\n",
        "    # Converte a coluna de energia radiada para float\n",
        "    df['total_radiated_energy_j'] = df['total_radiated_energy_j'].astype(float)\n",
        "\n",
        "    # Encontra o bólido de maior energia radiada\n",
        "    max_energy_bolide = df[df['total_radiated_energy_j'] == df['total_radiated_energy_j'].max()]\n",
        "\n",
        "    # Exibe o resultado\n",
        "    print(\"Bólido de maior energia radiada:\")\n",
        "    print(max_energy_bolide)\n",
        "\n",
        "    # Salva o resultado em um arquivo CSV\n",
        "    max_energy_bolide.to_csv(\"resultado_analista_dados.csv\", index=False)\n",
        "\n",
        "else:\n",
        "    print(\"Erro na requisição. Código de status:\", response.status_code)\n"
      ]
    }
  ]
}